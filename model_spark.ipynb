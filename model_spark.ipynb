{
 "cells": [
  {
   "cell_type": "code",
   "execution_count": 132,
   "id": "065a5513-3a94-4f70-be2d-4799f63aec41",
   "metadata": {},
   "outputs": [],
   "source": [
    "# Bibliothèques générales\n",
    "import re\n",
    "import nltk\n",
    "import pandas as pd\n",
    "import matplotlib.pyplot as plt\n",
    "import seaborn as sns\n",
    "\n",
    "# Initialisation de Spark\n",
    "import findspark\n",
    "findspark.init()\n",
    "\n",
    "# Bibliothèques PySpark\n",
    "from pyspark.sql import SparkSession\n",
    "from pyspark.sql.functions import col, lower, regexp_replace\n",
    "from pyspark.ml.feature import Tokenizer, StopWordsRemover, CountVectorizer, StringIndexer\n",
    "from pyspark.ml.classification import LogisticRegression\n",
    "from pyspark.ml import Pipeline\n",
    "from pyspark.ml.evaluation import MulticlassClassificationEvaluator\n"
   ]
  },
  {
   "cell_type": "code",
   "execution_count": 134,
   "id": "233d2997-e03f-4d9f-8ceb-0e6cd0c7f38d",
   "metadata": {},
   "outputs": [],
   "source": [
    "import os\n",
    "os.environ[\"HADOOP_HOME\"] = \"C:/PySpark\"\n",
    "os.environ[\"PATH\"] += os.pathsep + os.path.join(os.environ[\"HADOOP_HOME\"], \"bin\")\n",
    "spark = SparkSession.builder \\\n",
    "    .appName(\"ModelTraining\") \\\n",
    "    .config(\"spark.hadoop.io.native.lib.available\", \"false\") \\\n",
    "    .config(\"spark.hadoop.io.file.access.check\", \"false\") \\\n",
    "    .getOrCreate()"
   ]
  },
  {
   "cell_type": "code",
   "execution_count": 136,
   "id": "908b622c-df40-4aaa-a772-d2e1d4548b39",
   "metadata": {},
   "outputs": [],
   "source": [
    "# Charger les fichiers CSV\n",
    "data = spark.read.csv(\"twitter_training.csv\", header=False, inferSchema=True)\n",
    "validation = spark.read.csv(\"twitter_validation.csv\", header=False, inferSchema=True)\n",
    "\n",
    "# Définir et appliquer les noms de colonnes\n",
    "columns = ['id', 'Company', 'Label', 'Text']\n",
    "for i, col_name in enumerate(columns):\n",
    "    data = data.withColumnRenamed(f\"_c{i}\", col_name)\n",
    "    validation = validation.withColumnRenamed(f\"_c{i}\", col_name)\n",
    "\n",
    "# Supprimer les lignes sans texte\n",
    "data = data.dropna(subset=[\"Text\"])\n",
    "validation = validation.dropna(subset=[\"Text\"])\n"
   ]
  },
  {
   "cell_type": "code",
   "execution_count": 138,
   "id": "89b346bd-05f9-4b24-8381-49adb5b86e22",
   "metadata": {},
   "outputs": [
    {
     "name": "stdout",
     "output_type": "stream",
     "text": [
      "Label Mapping:\n",
      "Index 0 --> Label 'Negative'\n",
      "Index 1 --> Label 'Positive'\n",
      "Index 2 --> Label 'Neutral'\n",
      "Index 3 --> Label 'Irrelevant'\n"
     ]
    }
   ],
   "source": [
    "# Encodage des étiquettes textuelles\n",
    "label_indexer = StringIndexer(inputCol=\"Label\", outputCol=\"Label2\")\n",
    "label_indexer_model = label_indexer.fit(data)\n",
    "data = label_indexer_model.transform(data)\n",
    "validation = label_indexer_model.transform(validation)\n",
    "\n",
    "# Afficher la correspondance des étiquettes\n",
    "print(\"Label Mapping:\")\n",
    "for index, label in enumerate(label_indexer_model.labels):\n",
    "    print(f\"Index {index} --> Label '{label}'\")\n"
   ]
  },
  {
   "cell_type": "code",
   "execution_count": 90,
   "id": "09019eeb-53c0-4823-8029-20f9b2574e98",
   "metadata": {},
   "outputs": [],
   "source": [
    "def clean_text(df, inputCol=\"Text\", outputCol=\"Text\"):\n",
    "    df = df.withColumn(outputCol, regexp_replace(col(inputCol), r'https?://\\S+|www\\.\\S+|\\S+\\.com\\S+|youtu\\.be/\\S+', ''))\n",
    "    df = df.withColumn(outputCol, regexp_replace(col(outputCol), r'(@|#)\\w+', ''))\n",
    "    df = df.withColumn(outputCol, lower(col(outputCol)))\n",
    "    df = df.withColumn(outputCol, regexp_replace(col(outputCol), r'[^a-zA-Z\\s]', ''))\n",
    "    return df\n",
    "\n",
    "data = clean_text(data)\n",
    "validation = clean_text(validation)\n"
   ]
  },
  {
   "cell_type": "code",
   "execution_count": 92,
   "id": "a4c3a122-6647-46f7-80e1-b781379d8160",
   "metadata": {
    "scrolled": true
   },
   "outputs": [],
   "source": [
    "from nltk.corpus import stopwords\n",
    "import string\n",
    "\n",
    "# Chargement et nettoyage des stopwords\n",
    "stop_words = stopwords.words(\"english\")\n",
    "# Éventuellement, ajoute aussi la ponctuation\n",
    "stop_words += list(string.punctuation)\n",
    "\n",
    "# Pipeline\n",
    "tokenizer = Tokenizer(inputCol=\"Text\", outputCol=\"tokens\")\n",
    "stopwords_remover = StopWordsRemover(inputCol=\"tokens\", outputCol=\"filtered_tokens\", stopWords=stop_words)\n",
    "vectorizer = CountVectorizer(inputCol=\"filtered_tokens\", outputCol=\"features\", vocabSize=10000, minDF=5)\n",
    "lr = LogisticRegression(labelCol=\"Label2\", featuresCol=\"features\", maxIter=10)\n",
    "pipeline = Pipeline(stages=[tokenizer, stopwords_remover, vectorizer, lr])\n"
   ]
  },
  {
   "cell_type": "code",
   "execution_count": 94,
   "id": "9147c13e-dd17-4f3a-afea-045df2d6c431",
   "metadata": {},
   "outputs": [
    {
     "data": {
      "text/plain": [
       "73996"
      ]
     },
     "execution_count": 94,
     "metadata": {},
     "output_type": "execute_result"
    }
   ],
   "source": [
    "data.cache()\n",
    "data.count()"
   ]
  },
  {
   "cell_type": "code",
   "execution_count": 95,
   "id": "567aa6f7-5d51-4165-8401-dde33f657b89",
   "metadata": {},
   "outputs": [],
   "source": [
    "model = pipeline.fit(data)\n",
    "processed_data = model.transform(data)\n"
   ]
  },
  {
   "cell_type": "code",
   "execution_count": 98,
   "id": "07b8eb8e-0a04-4e88-a076-fad069bd5c31",
   "metadata": {},
   "outputs": [
    {
     "name": "stdout",
     "output_type": "stream",
     "text": [
      "root\n",
      " |-- id: integer (nullable = true)\n",
      " |-- Company: string (nullable = true)\n",
      " |-- Label: string (nullable = true)\n",
      " |-- Text: string (nullable = true)\n",
      " |-- Label2: double (nullable = false)\n",
      " |-- tokens: array (nullable = true)\n",
      " |    |-- element: string (containsNull = true)\n",
      " |-- filtered_tokens: array (nullable = true)\n",
      " |    |-- element: string (containsNull = true)\n",
      " |-- features: vector (nullable = true)\n",
      " |-- rawPrediction: vector (nullable = true)\n",
      " |-- probability: vector (nullable = true)\n",
      " |-- prediction: double (nullable = false)\n",
      "\n"
     ]
    }
   ],
   "source": [
    "processed_data.printSchema()"
   ]
  },
  {
   "cell_type": "code",
   "execution_count": 100,
   "id": "f79c683a-85c6-44ae-a354-8e83fca57e3e",
   "metadata": {},
   "outputs": [
    {
     "name": "stdout",
     "output_type": "stream",
     "text": [
      "+--------------------+------+----------+\n",
      "|                Text|Label2|prediction|\n",
      "+--------------------+------+----------+\n",
      "|im getting on bor...|   1.0|       1.0|\n",
      "|i am coming to th...|   1.0|       1.0|\n",
      "|im getting on bor...|   1.0|       1.0|\n",
      "|im coming on bord...|   1.0|       1.0|\n",
      "|im getting on bor...|   1.0|       1.0|\n",
      "|im getting into b...|   1.0|       1.0|\n",
      "|so i spent a few ...|   1.0|       1.0|\n",
      "|so i spent a coup...|   1.0|       1.0|\n",
      "|so i spent a few ...|   1.0|       1.0|\n",
      "|so i spent a few ...|   1.0|       1.0|\n",
      "| so i spent a few...|   1.0|       1.0|\n",
      "|                 was|   1.0|       0.0|\n",
      "|rockhard la varlo...|   2.0|       2.0|\n",
      "|rockhard la varlo...|   2.0|       2.0|\n",
      "|rockhard la varlo...|   2.0|       2.0|\n",
      "|rockhard la vita ...|   2.0|       2.0|\n",
      "|live rock  hard m...|   2.0|       2.0|\n",
      "|ihard like me rar...|   2.0|       2.0|\n",
      "|that was the firs...|   1.0|       1.0|\n",
      "|this was the firs...|   1.0|       1.0|\n",
      "+--------------------+------+----------+\n",
      "only showing top 20 rows\n",
      "\n"
     ]
    }
   ],
   "source": [
    "processed_data.select(\"Text\", \"Label2\", \"prediction\").show(20)\n"
   ]
  },
  {
   "cell_type": "code",
   "execution_count": 118,
   "id": "ef03dc33-d62b-4432-97c6-7c6a89a97968",
   "metadata": {
    "scrolled": true
   },
   "outputs": [],
   "source": [
    "model.write().overwrite().save(\"logistic_regression_model.pkl\")\n"
   ]
  },
  {
   "cell_type": "code",
   "execution_count": 126,
   "id": "41e4afff-875d-4eca-a634-d784d3745b48",
   "metadata": {},
   "outputs": [],
   "source": [
    "processed_validation = model.transform(validation)"
   ]
  },
  {
   "cell_type": "code",
   "execution_count": 130,
   "id": "93ebf660-a89d-49bb-bd8d-45f9f0e24f97",
   "metadata": {},
   "outputs": [
    {
     "name": "stdout",
     "output_type": "stream",
     "text": [
      "Accuracy: 0.873\n",
      "Confusion Matrix:\n"
     ]
    },
    {
     "data": {
      "image/png": "[encoded data removed]",
      "text/plain": [
       "<Figure size 800x600 with 2 Axes>"
      ]
     },
     "metadata": {},
     "output_type": "display_data"
    }
   ],
   "source": [
    "# Evaluate accuracy\n",
    "from sklearn.metrics import confusion_matrix\n",
    "evaluator = MulticlassClassificationEvaluator(labelCol=\"Label2\", predictionCol=\"prediction\", metricName=\"accuracy\")\n",
    "accuracy = evaluator.evaluate(processed_validation)\n",
    "print(\"Accuracy:\", accuracy)\n",
    "\n",
    "# --- Create a confusion matrix\n",
    "\n",
    "# Convert Spark DataFrame to Pandas DataFrame\n",
    "prediction_and_label_pd = processed_validation.select(\"prediction\", \"Label2\").toPandas()\n",
    "\n",
    "# Extract predicted labels and true labels\n",
    "predicted_labels = prediction_and_label_pd[\"prediction\"].tolist()\n",
    "true_labels = prediction_and_label_pd[\"Label2\"].tolist()\n",
    "\n",
    "# Create confusion matrix\n",
    "conf_matrix = confusion_matrix(true_labels, predicted_labels)\n",
    "print(\"Confusion Matrix:\")\n",
    "# Plot confusion matrix using Seaborn\n",
    "plt.figure(figsize=(8, 6))\n",
    "sns.heatmap(conf_matrix, annot=True, fmt=\"d\", cmap=\"Blues\", xticklabels=True, yticklabels=True)\n",
    "plt.xlabel(\"Predicted Labels\")\n",
    "plt.ylabel(\"True Labels\")\n",
    "plt.title(\"Confusion Matrix\")\n",
    "plt.show()"
   ]
  }
 ],
 "metadata": {
  "kernelspec": {
   "display_name": "Python [conda env:base] *",
   "language": "python",
   "name": "conda-base-py"
  },
  "language_info": {
   "codemirror_mode": {
    "name": "ipython",
    "version": 3
   },
   "file_extension": ".py",
   "mimetype": "text/x-python",
   "name": "python",
   "nbconvert_exporter": "python",
   "pygments_lexer": "ipython3",
   "version": "3.12.3"
  }
 },
 "nbformat": 4,
 "nbformat_minor": 5
}
